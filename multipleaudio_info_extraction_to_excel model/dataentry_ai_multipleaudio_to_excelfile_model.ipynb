{
 "cells": [
  {
   "cell_type": "code",
   "execution_count": 1,
   "id": "abed99e9",
   "metadata": {},
   "outputs": [],
   "source": [
    "import os\n",
    "import re\n",
    "import speech_recognition as sr\n",
    "import spacy\n",
    "import pandas as pd"
   ]
  },
  {
   "cell_type": "code",
   "execution_count": 2,
   "id": "f58231dc",
   "metadata": {},
   "outputs": [],
   "source": [
    "# Function to transcribe audio files into text\n",
    "def transcribe_audio(audio_file):\n",
    "    recognizer = sr.Recognizer()\n",
    "    with sr.AudioFile(audio_file) as source:\n",
    "        audio_data = recognizer.record(source)\n",
    "    try:\n",
    "        return recognizer.recognize_google(audio_data)\n",
    "    except sr.UnknownValueError:\n",
    "        print(\"Speech recognition could not understand audio\")\n",
    "        return \"\"\n",
    "    except sr.RequestError as e:\n",
    "        print(\"Could not request results from Google Speech Recognition service; {0}\".format(e))\n",
    "        return \"\""
   ]
  },
  {
   "cell_type": "code",
   "execution_count": 3,
   "id": "2c89065c",
   "metadata": {},
   "outputs": [],
   "source": [
    "# Function to extract user information from transcribed text\n",
    "def extract_user_info(transcribed_text):\n",
    "    # Initialize spaCy NLP model\n",
    "    nlp = spacy.load(\"en_core_web_sm\")\n",
    "\n",
    "    # Perform named entity recognition\n",
    "    doc = nlp(transcribed_text)\n",
    "\n",
    "    # Extract entities of interest (e.g., person names, locations)\n",
    "    name = None\n",
    "    address = None\n",
    "    phone_number = None\n",
    "    occupation = None\n",
    "\n",
    "    for ent in doc.ents:\n",
    "        if ent.label_ == \"PERSON\" and not name:\n",
    "            name = ent.text\n",
    "        elif ent.label_ == \"GPE\" and not address:\n",
    "            address = ent.text\n",
    "        # Add additional conditions for phone numbers, occupations, etc.\n",
    "\n",
    "    return name, address, phone_number, occupation"
   ]
  },
  {
   "cell_type": "code",
   "execution_count": 7,
   "id": "abf92577",
   "metadata": {},
   "outputs": [
    {
     "name": "stderr",
     "output_type": "stream",
     "text": [
      "C:\\Users\\janar\\AppData\\Local\\Temp\\ipykernel_8184\\2419218946.py:18: FutureWarning: The frame.append method is deprecated and will be removed from pandas in a future version. Use pandas.concat instead.\n",
      "  user_info_df = user_info_df.append({\n",
      "C:\\Users\\janar\\AppData\\Local\\Temp\\ipykernel_8184\\2419218946.py:18: FutureWarning: The frame.append method is deprecated and will be removed from pandas in a future version. Use pandas.concat instead.\n",
      "  user_info_df = user_info_df.append({\n"
     ]
    }
   ],
   "source": [
    "if __name__ == \"__main__\":\n",
    "    # Process multiple audio files\n",
    "    audio_folder = \"D:\\check_audio\"  # Folder containing audio files\n",
    "    output_excel_file = \"user_info.xlsx\"  # Output Excel file name\n",
    "\n",
    "    # Create an empty DataFrame to store user information\n",
    "    columns = [\"Name\", \"Address\", \"Phone Number\", \"Occupation\"]\n",
    "    user_info_df = pd.DataFrame(columns=columns)\n",
    "\n",
    "    # Iterate through audio files\n",
    "    for audio_file in os.listdir(audio_folder):\n",
    "        if audio_file.endswith(\".wav\"):\n",
    "            audio_path = os.path.join(audio_folder, audio_file)\n",
    "            transcribed_text = transcribe_audio(audio_path)\n",
    "            name, address, phone_number, occupation = extract_user_info(transcribed_text)\n",
    "\n",
    "            # Append extracted information to DataFrame\n",
    "            user_info_df = user_info_df.append({\n",
    "                \"Name\": name,\n",
    "                \"Address\": address,\n",
    "                \"Phone Number\": phone_number,\n",
    "                \"Occupation\": occupation\n",
    "            }, ignore_index=True)\n",
    "\n",
    "  "
   ]
  },
  {
   "cell_type": "code",
   "execution_count": 8,
   "id": "ffa9e13b",
   "metadata": {},
   "outputs": [
    {
     "name": "stdout",
     "output_type": "stream",
     "text": [
      "User information saved to user_info.xlsx\n"
     ]
    }
   ],
   "source": [
    "    # Save DataFrame to Excel file\n",
    "    user_info_df.to_excel(output_excel_file, index=False)\n",
    "    print(f\"User information saved to {output_excel_file}\")\n"
   ]
  },
  {
   "cell_type": "code",
   "execution_count": null,
   "id": "e0c57198",
   "metadata": {},
   "outputs": [],
   "source": []
  }
 ],
 "metadata": {
  "kernelspec": {
   "display_name": "Python 3 (ipykernel)",
   "language": "python",
   "name": "python3"
  },
  "language_info": {
   "codemirror_mode": {
    "name": "ipython",
    "version": 3
   },
   "file_extension": ".py",
   "mimetype": "text/x-python",
   "name": "python",
   "nbconvert_exporter": "python",
   "pygments_lexer": "ipython3",
   "version": "3.9.13"
  }
 },
 "nbformat": 4,
 "nbformat_minor": 5
}
